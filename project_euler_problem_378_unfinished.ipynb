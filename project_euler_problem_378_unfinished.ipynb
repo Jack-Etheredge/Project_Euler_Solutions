{
 "cells": [
  {
   "cell_type": "markdown",
   "metadata": {},
   "source": [
    "Let T(n) be the nth triangle number, so T(n) =\tn (n+1)/2.\n",
    "\n",
    "Let dT(n) be the number of divisors of T(n).\n",
    "E.g.: T(7) = 28 and dT(7) = 6.\n",
    "\n",
    "Let Tr(n) be the number of triples (i, j, k) such that 1 ≤ i < j < k ≤ n and dT(i) > dT(j) > dT(k).\n",
    "Tr(20) = 14, Tr(100) = 5772 and Tr(1000) = 11174776.\n",
    "\n",
    "Find Tr(60 000 000). \n",
    "Give the last 18 digits of your answer."
   ]
  },
  {
   "cell_type": "code",
   "execution_count": null,
   "metadata": {},
   "outputs": [],
   "source": []
  }
 ],
 "metadata": {
  "kernelspec": {
   "display_name": "Python 3",
   "language": "python",
   "name": "python3"
  },
  "language_info": {
   "codemirror_mode": {
    "name": "ipython",
    "version": 3
   },
   "file_extension": ".py",
   "mimetype": "text/x-python",
   "name": "python",
   "nbconvert_exporter": "python",
   "pygments_lexer": "ipython3",
   "version": "3.6.5"
  }
 },
 "nbformat": 4,
 "nbformat_minor": 2
}
