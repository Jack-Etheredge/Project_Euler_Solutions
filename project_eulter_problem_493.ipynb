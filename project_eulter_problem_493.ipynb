{
 "cells": [
  {
   "cell_type": "markdown",
   "metadata": {},
   "source": [
    "70 colored balls are placed in an urn, 10 for each of the seven rainbow colors.\n",
    "\n",
    "What is the expected number of distinct colors in 20 randomly picked balls?\n",
    "\n",
    "Give your answer with nine digits after the decimal point (a.bcdefghij)."
   ]
  },
  {
   "cell_type": "code",
   "execution_count": 1,
   "metadata": {
    "ExecuteTime": {
     "end_time": "2018-09-30T19:21:17.050783Z",
     "start_time": "2018-09-30T19:21:17.048000Z"
    }
   },
   "outputs": [],
   "source": [
    "import math"
   ]
  },
  {
   "cell_type": "code",
   "execution_count": 2,
   "metadata": {
    "ExecuteTime": {
     "end_time": "2018-09-30T19:21:17.218429Z",
     "start_time": "2018-09-30T19:21:17.215464Z"
    }
   },
   "outputs": [],
   "source": [
    "def nchooser(n,r):\n",
    "    return(math.factorial(n)/(math.factorial(r)*math.factorial(n-r)))"
   ]
  },
  {
   "cell_type": "code",
   "execution_count": 3,
   "metadata": {
    "ExecuteTime": {
     "end_time": "2018-09-30T19:21:17.388972Z",
     "start_time": "2018-09-30T19:21:17.386317Z"
    }
   },
   "outputs": [],
   "source": [
    "answer = 7*(1 - (nchooser(60,20)/nchooser(70,20)))"
   ]
  },
  {
   "cell_type": "code",
   "execution_count": 4,
   "metadata": {
    "ExecuteTime": {
     "end_time": "2018-09-30T19:21:17.563134Z",
     "start_time": "2018-09-30T19:21:17.560940Z"
    }
   },
   "outputs": [],
   "source": [
    "# '{0:.9f}'.format(answer)"
   ]
  },
  {
   "cell_type": "code",
   "execution_count": null,
   "metadata": {},
   "outputs": [],
   "source": []
  }
 ],
 "metadata": {
  "kernelspec": {
   "display_name": "Python 3",
   "language": "python",
   "name": "python3"
  },
  "language_info": {
   "codemirror_mode": {
    "name": "ipython",
    "version": 3
   },
   "file_extension": ".py",
   "mimetype": "text/x-python",
   "name": "python",
   "nbconvert_exporter": "python",
   "pygments_lexer": "ipython3",
   "version": "3.6.5"
  }
 },
 "nbformat": 4,
 "nbformat_minor": 2
}
