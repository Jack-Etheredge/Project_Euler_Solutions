{
 "cells": [
  {
   "cell_type": "markdown",
   "metadata": {},
   "source": [
    "2^15 = 32768 and the sum of its digits is 3 + 2 + 7 + 6 + 8 = 26.\n",
    "\n",
    "What is the sum of the digits of the number 2^1000"
   ]
  },
  {
   "cell_type": "code",
   "execution_count": 15,
   "metadata": {
    "ExecuteTime": {
     "end_time": "2018-09-30T19:06:16.103178Z",
     "start_time": "2018-09-30T19:06:16.099946Z"
    }
   },
   "outputs": [],
   "source": [
    "def get_sum_digits(number):\n",
    "    print(number)\n",
    "    numsum = sum([int(i) for i in str(number)])\n",
    "    # print(numsum)\n",
    "    return numsum"
   ]
  },
  {
   "cell_type": "code",
   "execution_count": 16,
   "metadata": {
    "ExecuteTime": {
     "end_time": "2018-09-30T19:06:16.413117Z",
     "start_time": "2018-09-30T19:06:16.410048Z"
    }
   },
   "outputs": [
    {
     "name": "stdout",
     "output_type": "stream",
     "text": [
      "32768\n",
      "26\n"
     ]
    }
   ],
   "source": [
    "numsum = get_sum_digits(2**15)\n",
    "print(numsum)"
   ]
  },
  {
   "cell_type": "code",
   "execution_count": 17,
   "metadata": {
    "ExecuteTime": {
     "end_time": "2018-09-30T19:06:50.431061Z",
     "start_time": "2018-09-30T19:06:50.427047Z"
    }
   },
   "outputs": [
    {
     "name": "stdout",
     "output_type": "stream",
     "text": [
      "10715086071862673209484250490600018105614048117055336074437503883703510511249361224931983788156958581275946729175531468251871452856923140435984577574698574803934567774824230985421074605062371141877954182153046474983581941267398767559165543946077062914571196477686542167660429831652624386837205668069376\n"
     ]
    }
   ],
   "source": [
    "numsum = get_sum_digits(2**1000)\n",
    "# print(numsum) # this will return the answer, so i've commented it out"
   ]
  },
  {
   "cell_type": "code",
   "execution_count": null,
   "metadata": {},
   "outputs": [],
   "source": []
  }
 ],
 "metadata": {
  "kernelspec": {
   "display_name": "Python 3",
   "language": "python",
   "name": "python3"
  },
  "language_info": {
   "codemirror_mode": {
    "name": "ipython",
    "version": 3
   },
   "file_extension": ".py",
   "mimetype": "text/x-python",
   "name": "python",
   "nbconvert_exporter": "python",
   "pygments_lexer": "ipython3",
   "version": "3.6.5"
  }
 },
 "nbformat": 4,
 "nbformat_minor": 2
}
