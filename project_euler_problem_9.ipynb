{
 "cells": [
  {
   "cell_type": "code",
   "execution_count": 46,
   "metadata": {},
   "outputs": [
    {
     "name": "stdout",
     "output_type": "stream",
     "text": [
      "200 375 425\n"
     ]
    },
    {
     "data": {
      "text/plain": [
       "31875000"
      ]
     },
     "execution_count": 46,
     "metadata": {},
     "output_type": "execute_result"
    }
   ],
   "source": [
    "# only check values where a+b+c=1000\n",
    "# see whether you're over or undershooting c\n",
    "# starting with a, b would be range(a, 1000-a)\n",
    "\n",
    "def check_abc():\n",
    "    for a in range(1,1000):\n",
    "        for b in range(a,1000-a):\n",
    "            for c in range(b,1000-b): \n",
    "                if a+b+c==1000:\n",
    "                    if a**2+b**2==c**2:\n",
    "                        print(a,b,c)\n",
    "                        return(a*b*c)\n",
    "\n",
    "check_abc()"
   ]
  },
  {
   "cell_type": "code",
   "execution_count": null,
   "metadata": {},
   "outputs": [],
   "source": []
  }
 ],
 "metadata": {
  "kernelspec": {
   "display_name": "Python 3",
   "language": "python",
   "name": "python3"
  },
  "language_info": {
   "codemirror_mode": {
    "name": "ipython",
    "version": 3
   },
   "file_extension": ".py",
   "mimetype": "text/x-python",
   "name": "python",
   "nbconvert_exporter": "python",
   "pygments_lexer": "ipython3",
   "version": "3.6.5"
  }
 },
 "nbformat": 4,
 "nbformat_minor": 2
}
