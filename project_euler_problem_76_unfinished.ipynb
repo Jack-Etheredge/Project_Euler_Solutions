{
 "cells": [
  {
   "cell_type": "markdown",
   "metadata": {},
   "source": [
    "It is possible to write five as a sum in exactly six different ways:\n",
    "\n",
    "4 + 1\n",
    "3 + 2\n",
    "3 + 1 + 1\n",
    "2 + 2 + 1\n",
    "2 + 1 + 1 + 1\n",
    "1 + 1 + 1 + 1 + 1\n",
    "\n",
    "How many different ways can one hundred be written as a sum of at least two positive integers?"
   ]
  },
  {
   "cell_type": "code",
   "execution_count": 2,
   "metadata": {
    "ExecuteTime": {
     "end_time": "2018-09-30T19:57:39.064670Z",
     "start_time": "2018-09-30T19:57:39.061673Z"
    }
   },
   "outputs": [],
   "source": [
    "def sum_num_ways(num):\n",
    "    base = num*[1]\n",
    "    return(base)"
   ]
  },
  {
   "cell_type": "code",
   "execution_count": 3,
   "metadata": {
    "ExecuteTime": {
     "end_time": "2018-09-30T19:57:46.982548Z",
     "start_time": "2018-09-30T19:57:46.973016Z"
    }
   },
   "outputs": [
    {
     "data": {
      "text/plain": [
       "[1, 1, 1, 1, 1]"
      ]
     },
     "execution_count": 3,
     "metadata": {},
     "output_type": "execute_result"
    }
   ],
   "source": [
    "sum_num_ways(5)"
   ]
  },
  {
   "cell_type": "code",
   "execution_count": 4,
   "metadata": {
    "ExecuteTime": {
     "end_time": "2018-09-30T20:07:24.896141Z",
     "start_time": "2018-09-30T20:07:24.893575Z"
    }
   },
   "outputs": [],
   "source": [
    "import itertools"
   ]
  },
  {
   "cell_type": "code",
   "execution_count": 6,
   "metadata": {
    "ExecuteTime": {
     "end_time": "2018-09-30T20:10:14.274574Z",
     "start_time": "2018-09-30T20:10:14.271031Z"
    }
   },
   "outputs": [],
   "source": [
    "def sublists(inputlist, depth):\n",
    "    output= []\n",
    "    if depth > 0:\n",
    "        for i in range(0, len(inputlist)):\n",
    "            sub= inputlist[0:i] + inputlist[i+1:]\n",
    "            output += [sub]\n",
    "            output.extend(sublists(sub, depth-1))\n",
    "    return output"
   ]
  },
  {
   "cell_type": "code",
   "execution_count": 10,
   "metadata": {
    "ExecuteTime": {
     "end_time": "2018-09-30T20:11:28.620010Z",
     "start_time": "2018-09-30T20:11:28.610296Z"
    }
   },
   "outputs": [
    {
     "data": {
      "text/plain": [
       "[[1, 1, 1, 1],\n",
       " [1, 1, 1],\n",
       " [1, 1],\n",
       " [1],\n",
       " [1],\n",
       " [1, 1],\n",
       " [1],\n",
       " [1],\n",
       " [1, 1],\n",
       " [1],\n",
       " [1],\n",
       " [1, 1, 1],\n",
       " [1, 1],\n",
       " [1],\n",
       " [1],\n",
       " [1, 1],\n",
       " [1],\n",
       " [1],\n",
       " [1, 1],\n",
       " [1],\n",
       " [1],\n",
       " [1, 1, 1],\n",
       " [1, 1],\n",
       " [1],\n",
       " [1],\n",
       " [1, 1],\n",
       " [1],\n",
       " [1],\n",
       " [1, 1],\n",
       " [1],\n",
       " [1],\n",
       " [1, 1, 1],\n",
       " [1, 1],\n",
       " [1],\n",
       " [1],\n",
       " [1, 1],\n",
       " [1],\n",
       " [1],\n",
       " [1, 1],\n",
       " [1],\n",
       " [1],\n",
       " [1, 1, 1, 1],\n",
       " [1, 1, 1],\n",
       " [1, 1],\n",
       " [1],\n",
       " [1],\n",
       " [1, 1],\n",
       " [1],\n",
       " [1],\n",
       " [1, 1],\n",
       " [1],\n",
       " [1],\n",
       " [1, 1, 1],\n",
       " [1, 1],\n",
       " [1],\n",
       " [1],\n",
       " [1, 1],\n",
       " [1],\n",
       " [1],\n",
       " [1, 1],\n",
       " [1],\n",
       " [1],\n",
       " [1, 1, 1],\n",
       " [1, 1],\n",
       " [1],\n",
       " [1],\n",
       " [1, 1],\n",
       " [1],\n",
       " [1],\n",
       " [1, 1],\n",
       " [1],\n",
       " [1],\n",
       " [1, 1, 1],\n",
       " [1, 1],\n",
       " [1],\n",
       " [1],\n",
       " [1, 1],\n",
       " [1],\n",
       " [1],\n",
       " [1, 1],\n",
       " [1],\n",
       " [1],\n",
       " [1, 1, 1, 1],\n",
       " [1, 1, 1],\n",
       " [1, 1],\n",
       " [1],\n",
       " [1],\n",
       " [1, 1],\n",
       " [1],\n",
       " [1],\n",
       " [1, 1],\n",
       " [1],\n",
       " [1],\n",
       " [1, 1, 1],\n",
       " [1, 1],\n",
       " [1],\n",
       " [1],\n",
       " [1, 1],\n",
       " [1],\n",
       " [1],\n",
       " [1, 1],\n",
       " [1],\n",
       " [1],\n",
       " [1, 1, 1],\n",
       " [1, 1],\n",
       " [1],\n",
       " [1],\n",
       " [1, 1],\n",
       " [1],\n",
       " [1],\n",
       " [1, 1],\n",
       " [1],\n",
       " [1],\n",
       " [1, 1, 1],\n",
       " [1, 1],\n",
       " [1],\n",
       " [1],\n",
       " [1, 1],\n",
       " [1],\n",
       " [1],\n",
       " [1, 1],\n",
       " [1],\n",
       " [1],\n",
       " [1, 1, 1, 1],\n",
       " [1, 1, 1],\n",
       " [1, 1],\n",
       " [1],\n",
       " [1],\n",
       " [1, 1],\n",
       " [1],\n",
       " [1],\n",
       " [1, 1],\n",
       " [1],\n",
       " [1],\n",
       " [1, 1, 1],\n",
       " [1, 1],\n",
       " [1],\n",
       " [1],\n",
       " [1, 1],\n",
       " [1],\n",
       " [1],\n",
       " [1, 1],\n",
       " [1],\n",
       " [1],\n",
       " [1, 1, 1],\n",
       " [1, 1],\n",
       " [1],\n",
       " [1],\n",
       " [1, 1],\n",
       " [1],\n",
       " [1],\n",
       " [1, 1],\n",
       " [1],\n",
       " [1],\n",
       " [1, 1, 1],\n",
       " [1, 1],\n",
       " [1],\n",
       " [1],\n",
       " [1, 1],\n",
       " [1],\n",
       " [1],\n",
       " [1, 1],\n",
       " [1],\n",
       " [1],\n",
       " [1, 1, 1, 1],\n",
       " [1, 1, 1],\n",
       " [1, 1],\n",
       " [1],\n",
       " [1],\n",
       " [1, 1],\n",
       " [1],\n",
       " [1],\n",
       " [1, 1],\n",
       " [1],\n",
       " [1],\n",
       " [1, 1, 1],\n",
       " [1, 1],\n",
       " [1],\n",
       " [1],\n",
       " [1, 1],\n",
       " [1],\n",
       " [1],\n",
       " [1, 1],\n",
       " [1],\n",
       " [1],\n",
       " [1, 1, 1],\n",
       " [1, 1],\n",
       " [1],\n",
       " [1],\n",
       " [1, 1],\n",
       " [1],\n",
       " [1],\n",
       " [1, 1],\n",
       " [1],\n",
       " [1],\n",
       " [1, 1, 1],\n",
       " [1, 1],\n",
       " [1],\n",
       " [1],\n",
       " [1, 1],\n",
       " [1],\n",
       " [1],\n",
       " [1, 1],\n",
       " [1],\n",
       " [1]]"
      ]
     },
     "execution_count": 10,
     "metadata": {},
     "output_type": "execute_result"
    }
   ],
   "source": [
    "num=5\n",
    "sublists(sum_num_ways(num),len(sum_num_ways(num-1)))"
   ]
  },
  {
   "cell_type": "code",
   "execution_count": 24,
   "metadata": {
    "ExecuteTime": {
     "end_time": "2018-09-30T20:19:32.835020Z",
     "start_time": "2018-09-30T20:19:32.830690Z"
    }
   },
   "outputs": [
    {
     "name": "stdout",
     "output_type": "stream",
     "text": [
      "[[1], [1, 1, 1, 1]]\n",
      "[1, 4]\n",
      "[[1, 1], [1, 1, 1]]\n",
      "[2, 3]\n",
      "[[1, 1, 1], [1, 1]]\n",
      "[3, 2]\n",
      "[[1, 1, 1, 1], [1]]\n",
      "[4, 1]\n"
     ]
    }
   ],
   "source": [
    "testlist = 5*[1]\n",
    "for i in range(1,len(testlist)):\n",
    "    sublists = [testlist[:i],testlist[i:]]\n",
    "    print(sublists)\n",
    "    print([sum(sublist) for sublist in sublists])"
   ]
  },
  {
   "cell_type": "code",
   "execution_count": 20,
   "metadata": {
    "ExecuteTime": {
     "end_time": "2018-09-30T20:17:29.860690Z",
     "start_time": "2018-09-30T20:17:29.857617Z"
    }
   },
   "outputs": [
    {
     "name": "stdout",
     "output_type": "stream",
     "text": [
      "[[1, 1, 1, 1, 1], []]\n"
     ]
    }
   ],
   "source": [
    "i = 5\n",
    "print([testlist[:i],testlist[i:]])"
   ]
  },
  {
   "cell_type": "code",
   "execution_count": null,
   "metadata": {},
   "outputs": [],
   "source": [
    "for i in "
   ]
  }
 ],
 "metadata": {
  "kernelspec": {
   "display_name": "Python 3",
   "language": "python",
   "name": "python3"
  },
  "language_info": {
   "codemirror_mode": {
    "name": "ipython",
    "version": 3
   },
   "file_extension": ".py",
   "mimetype": "text/x-python",
   "name": "python",
   "nbconvert_exporter": "python",
   "pygments_lexer": "ipython3",
   "version": "3.6.5"
  }
 },
 "nbformat": 4,
 "nbformat_minor": 2
}
