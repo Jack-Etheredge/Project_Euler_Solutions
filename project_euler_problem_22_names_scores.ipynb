{
 "cells": [
  {
   "cell_type": "markdown",
   "metadata": {
    "ExecuteTime": {
     "end_time": "2019-01-27T01:25:21.483776Z",
     "start_time": "2019-01-27T01:25:21.478623Z"
    }
   },
   "source": [
    "Using names.txt (right click and 'Save Link/Target As...'), a 46K text file containing over five-thousand first names, begin by sorting it into alphabetical order. Then working out the alphabetical value for each name, multiply this value by its alphabetical position in the list to obtain a name score.\n",
    "\n",
    "For example, when the list is sorted into alphabetical order, COLIN, which is worth 3 + 15 + 12 + 9 + 14 = 53, is the 938th name in the list. So, COLIN would obtain a score of 938 × 53 = 49714.\n",
    "\n",
    "What is the total of all the name scores in the file?"
   ]
  },
  {
   "cell_type": "code",
   "execution_count": 13,
   "metadata": {
    "ExecuteTime": {
     "end_time": "2019-01-27T01:45:27.511939Z",
     "start_time": "2019-01-27T01:45:27.508497Z"
    }
   },
   "outputs": [],
   "source": [
    "# this could easily be done in pandas as well, but i decided it was just as easy with lists\n",
    "\n",
    "with open (\"./p022_names.txt\", \"r\") as myfile:\n",
    "    data=myfile.readlines()"
   ]
  },
  {
   "cell_type": "code",
   "execution_count": 14,
   "metadata": {
    "ExecuteTime": {
     "end_time": "2019-01-27T01:45:27.517801Z",
     "start_time": "2019-01-27T01:45:27.513986Z"
    }
   },
   "outputs": [
    {
     "data": {
      "text/plain": [
       "1"
      ]
     },
     "execution_count": 14,
     "metadata": {},
     "output_type": "execute_result"
    }
   ],
   "source": [
    "len(data)"
   ]
  },
  {
   "cell_type": "code",
   "execution_count": 15,
   "metadata": {
    "ExecuteTime": {
     "end_time": "2019-01-27T01:45:27.522339Z",
     "start_time": "2019-01-27T01:45:27.519826Z"
    }
   },
   "outputs": [],
   "source": [
    "data = data[0]"
   ]
  },
  {
   "cell_type": "code",
   "execution_count": 16,
   "metadata": {
    "ExecuteTime": {
     "end_time": "2019-01-27T01:45:27.526501Z",
     "start_time": "2019-01-27T01:45:27.524058Z"
    }
   },
   "outputs": [],
   "source": [
    "data = data.replace(\"\\\"\",\"\")"
   ]
  },
  {
   "cell_type": "code",
   "execution_count": 17,
   "metadata": {
    "ExecuteTime": {
     "end_time": "2019-01-27T01:45:27.530317Z",
     "start_time": "2019-01-27T01:45:27.527945Z"
    }
   },
   "outputs": [],
   "source": [
    "data = data.split(\",\")"
   ]
  },
  {
   "cell_type": "code",
   "execution_count": 18,
   "metadata": {
    "ExecuteTime": {
     "end_time": "2019-01-27T01:45:27.536334Z",
     "start_time": "2019-01-27T01:45:27.532425Z"
    }
   },
   "outputs": [],
   "source": [
    "data.sort() # this is the in-place version, not to be confused with sorted"
   ]
  },
  {
   "cell_type": "code",
   "execution_count": 19,
   "metadata": {
    "ExecuteTime": {
     "end_time": "2019-01-27T01:45:27.540886Z",
     "start_time": "2019-01-27T01:45:27.538342Z"
    }
   },
   "outputs": [],
   "source": [
    "from string import ascii_lowercase\n",
    "from collections import OrderedDict\n",
    "alphanumdict = OrderedDict((k, i+1) for i, k in enumerate(ascii_lowercase))"
   ]
  },
  {
   "cell_type": "code",
   "execution_count": 20,
   "metadata": {
    "ExecuteTime": {
     "end_time": "2019-01-27T01:45:27.546515Z",
     "start_time": "2019-01-27T01:45:27.543021Z"
    }
   },
   "outputs": [
    {
     "data": {
      "text/plain": [
       "1"
      ]
     },
     "execution_count": 20,
     "metadata": {},
     "output_type": "execute_result"
    }
   ],
   "source": [
    "alphanumdict['a']"
   ]
  },
  {
   "cell_type": "code",
   "execution_count": 21,
   "metadata": {
    "ExecuteTime": {
     "end_time": "2019-01-27T01:45:27.559111Z",
     "start_time": "2019-01-27T01:45:27.548427Z"
    }
   },
   "outputs": [],
   "source": [
    "score_sum = 0\n",
    "for i in range(len(data)):\n",
    "    name = data[i]\n",
    "    position_multiplier = i+1\n",
    "    name_score = 0\n",
    "    for letter in name.lower():\n",
    "        name_score += alphanumdict[letter]\n",
    "    name_score *= position_multiplier\n",
    "    score_sum += name_score\n",
    "# print(score_sum)"
   ]
  },
  {
   "cell_type": "code",
   "execution_count": null,
   "metadata": {},
   "outputs": [],
   "source": []
  }
 ],
 "metadata": {
  "kernelspec": {
   "display_name": "Python 3",
   "language": "python",
   "name": "python3"
  },
  "language_info": {
   "codemirror_mode": {
    "name": "ipython",
    "version": 3
   },
   "file_extension": ".py",
   "mimetype": "text/x-python",
   "name": "python",
   "nbconvert_exporter": "python",
   "pygments_lexer": "ipython3",
   "version": "3.6.5"
  }
 },
 "nbformat": 4,
 "nbformat_minor": 2
}
